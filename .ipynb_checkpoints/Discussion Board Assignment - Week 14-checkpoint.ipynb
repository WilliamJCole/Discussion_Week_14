{
 "cells": [
  {
   "cell_type": "markdown",
   "metadata": {},
   "source": [
    "# Discussion Board Assignment - Week 14\n",
    "\n",
    "#### Amazon's Recomendation System\n",
    "\n",
    "1. Perform a Scenario Design analysis as described below. Consider whether it makes sense for your selected recommender system to perform scenario design twice, once for the organization (e.g. Amazon.com) and once for the organization's customers.\n",
    "\n",
    "2. Attempt to reverse engineer what you can about the site, from the site interface and any available information that you can find on the Internet or elsewhere.\n",
    "\n",
    "3. Include specific recommendations about how to improve the site's recommendation capabilities going forward.\n",
    "\n",
    "4. Create your report using a Jupyter notebook, and create a discussion thread with a link to the GitHub repo where your Jupyter Notebook resides. You are not expected to need to write code for this discussion assignment.\n",
    "\n",
    "#### Scenario Design Analysis:\n",
    "\n",
    "1. Who are your target users?\n",
    "   * Purchasers of a multitude of items, those with prime, and those who will start prime.\n",
    "2. What are their key goals?\n",
    "   * The goal is to better recommend items for future purchase. It also will illustrated that prime membership will allow quicker shipping and other benifites. \n",
    "3. How can you help them accomplish those goals?\n",
    "   * Using previous sales data, previous search data and returns data. This will better account for what the customer will want in future purchases. I believe this is the best way to deduce the information required."
   ]
  }
 ],
 "metadata": {
  "kernelspec": {
   "display_name": "Python 3",
   "language": "python",
   "name": "python3"
  },
  "language_info": {
   "codemirror_mode": {
    "name": "ipython",
    "version": 3
   },
   "file_extension": ".py",
   "mimetype": "text/x-python",
   "name": "python",
   "nbconvert_exporter": "python",
   "pygments_lexer": "ipython3",
   "version": "3.5.1"
  }
 },
 "nbformat": 4,
 "nbformat_minor": 2
}
