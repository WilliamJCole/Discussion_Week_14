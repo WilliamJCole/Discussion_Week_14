{
 "cells": [
  {
   "cell_type": "markdown",
   "metadata": {},
   "source": [
    "# Discussion Board Assignment - Week 14\n",
    "\n",
    "#### Amazon's Recomendation System\n",
    "\n",
    "1. Perform a Scenario Design analysis as described below. Consider whether it makes sense for your selected recommender system to perform scenario design twice, once for the organization (e.g. Amazon.com) and once for the organization's customers.\n",
    "\n",
    "2. Attempt to reverse engineer what you can about the site, from the site interface and any available information that you can find on the Internet or elsewhere.\n",
    "\n",
    "3. Include specific recommendations about how to improve the site's recommendation capabilities going forward.\n",
    "\n",
    "4. Create your report using a Jupyter notebook, and create a discussion thread with a link to the GitHub repo where your Jupyter Notebook resides. You are not expected to need to write code for this discussion assignment.\n",
    "\n",
    "#### Scenario Design Analysis:\n",
    "\n",
    "1. Who are your target users?\n",
    "   * The targeted users are people who are looking to sell items or buy items. Anyone over the age of 18 or gender are welcomed to participate. Some users might be more internet saavy, while others may have little experience using the internet.\n",
    "2. What are their key goals?\n",
    "    * The goal is to get people hooked on Ebay so that they can contiune selling and buying items. The interface should be easy to use and should allow users to buy and sell easilly without getting confused or having to know a lot of the internet and technology.Sellers want their products to be more visible and sellers want to easilly find items they are searching for or could be interested in.\n",
    "3. How can you help them accomplish those goals?\n",
    "   * The easiest way to help is to double the amount of items that new users can sell over all. This would also help new users sell higher volume of items, and at the same time it would make them feel confident about the selling and the buying system. They make money and they can spend money. For example, when users can easilly find items they are looking for, as well as other items they might be interested in, they are more likely to make purchases. This makes everyone happy- both the buyers and the sellers.\n",
    "\n",
    "\n"
   ]
  },
  {
   "cell_type": "code",
   "execution_count": null,
   "metadata": {
    "collapsed": true
   },
   "outputs": [],
   "source": []
  }
 ],
 "metadata": {
  "kernelspec": {
   "display_name": "Python 3",
   "language": "python",
   "name": "python3"
  },
  "language_info": {
   "codemirror_mode": {
    "name": "ipython",
    "version": 3
   },
   "file_extension": ".py",
   "mimetype": "text/x-python",
   "name": "python",
   "nbconvert_exporter": "python",
   "pygments_lexer": "ipython3",
   "version": "3.5.1"
  }
 },
 "nbformat": 4,
 "nbformat_minor": 2
}
